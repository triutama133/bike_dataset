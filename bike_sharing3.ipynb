{
  "cells": [
    {
      "cell_type": "markdown",
      "metadata": {
        "id": "view-in-github",
        "colab_type": "text"
      },
      "source": [
        "<a href=\"https://colab.research.google.com/github/triutama133/bike_dataset/blob/main/bike_sharing3.ipynb\" target=\"_parent\"><img src=\"https://colab.research.google.com/assets/colab-badge.svg\" alt=\"Open In Colab\"/></a>"
      ]
    },
    {
      "cell_type": "markdown",
      "metadata": {
        "id": "YojvA99D_s3v"
      },
      "source": [
        "# Proyek Analisis Data: Bike Sharing Dataset"
      ]
    },
    {
      "cell_type": "markdown",
      "metadata": {
        "id": "S_kOeVLb_s3x"
      },
      "source": [
        "- Nama: Trianka Priya Utama\n",
        "- Email: triankaputama@gmail.com\n",
        "- Id Dicoding: <a href='https://www.dicoding.com/users/tri_utama'>triankautama</a>\n",
        "- Github:"
      ]
    },
    {
      "cell_type": "markdown",
      "metadata": {
        "id": "h9WUI-c1_s3x"
      },
      "source": [
        "# Menentukan Pertanyaan Bisnis\n",
        "\n",
        "---\n",
        "\n"
      ]
    },
    {
      "cell_type": "markdown",
      "metadata": {
        "id": "6RSjiSSa_s3y"
      },
      "source": [
        "Specific: Berapa total jumlah sepeda yang disewakan selama musim gugur tahun 2012 (Season 3)?\n",
        "\n",
        "Measurable: Berapa banyak pengguna yang menyewa sepeda selama hari-hari libur di musim panas tahun 2011?\n",
        "\n",
        "Action-oriented: Bagaimana langkah-langkah yang bisa diambil untuk meningkatkan penggunaan sepeda sewaan oleh pelanggan reguler saat hari kerja?\n",
        "\n",
        "Relevant: Apakah ada korelasi antara suhu dan jumlah pengguna yang terdaftar? Bagaimana cuaca memengaruhi jumlah sepeda yang disewakan (cnt) selama musim gugur (Season 3)?\n",
        "\n",
        "Time-bound: Bagaimana distribusi sewa sepeda (cnt) per jam pada Hari Natal (hari libur = 1) tahun 2012 (tahun = 1)?"
      ]
    },
    {
      "cell_type": "markdown",
      "metadata": {
        "id": "QhnnetYr_s3y"
      },
      "source": [
        "<!-- - **Specific**: What is the total count of rental bikes (cnt) for the year 2012 during the fall season (season 3)?\n",
        "- **Measurable**: How many rental bikes were used on holidays (holiday = 1) during the summer season (season 2) in 2011?\n",
        "- **Action-oriented**: How can we increase the number of rental bikes used by casual users (casual) on weekdays (workingday = 1)?\n",
        "- **Relevant**:\n",
        "    - What is the relationship between temperature (temp) and the number of registered users (registered)?\n",
        "    - What effect does the weather (weathersit) have on the number of bicycle rentals (cnt) during autumn (season 3)?\n",
        "- **Time-bound**: What was the hourly distribution of rental bikes (cnt) on Christmas Day (holiday = 1) in 2012 (yr = 1)? -->"
      ]
    },
    {
      "cell_type": "markdown",
      "metadata": {
        "id": "yboYgAOv_s3y"
      },
      "source": [
        "# Menyiapkan semua library yang dibutuhkan"
      ]
    },
    {
      "cell_type": "code",
      "execution_count": null,
      "metadata": {
        "id": "FcEzJtip_s3y"
      },
      "outputs": [],
      "source": [
        "# Library\n",
        "import pandas as pd\n",
        "import plotly.express as px\n",
        "import matplotlib.pyplot as fig\n",
        "import warnings"
      ]
    },
    {
      "cell_type": "markdown",
      "metadata": {
        "id": "bpOH9UyI_s3z"
      },
      "source": [
        "# Data Wrangling"
      ]
    },
    {
      "cell_type": "markdown",
      "metadata": {
        "id": "hnJZQScK_s3z"
      },
      "source": [
        "## Gathering Data"
      ]
    },
    {
      "cell_type": "code",
      "execution_count": null,
      "metadata": {
        "id": "kF-c5teU_s3z"
      },
      "outputs": [],
      "source": [
        "df_day = pd.read_csv(\"dataset/Bike-sharing-dataset/day.csv\")\n",
        "df_hour = pd.read_csv(\"dataset/Bike-sharing-dataset/hour.csv\")"
      ]
    },
    {
      "cell_type": "code",
      "execution_count": null,
      "metadata": {
        "id": "2Iar-xia_s30"
      },
      "outputs": [],
      "source": [
        "df_day.head()"
      ]
    },
    {
      "cell_type": "code",
      "execution_count": null,
      "metadata": {
        "id": "p-pwIY7c_s30"
      },
      "outputs": [],
      "source": [
        "df_hour.head()"
      ]
    },
    {
      "cell_type": "markdown",
      "metadata": {
        "id": "3ZXecO20_s31"
      },
      "source": [
        "## Assessing Data"
      ]
    },
    {
      "cell_type": "markdown",
      "metadata": {
        "id": "FjYlKwYG_s31"
      },
      "source": [
        "### > Data Type"
      ]
    },
    {
      "cell_type": "code",
      "execution_count": null,
      "metadata": {
        "id": "F778UXQi_s31"
      },
      "outputs": [],
      "source": [
        "print('Dataframe day:')\n",
        "print(df_day.info())\n",
        "\n",
        "print('\\nDataframe hour:')\n",
        "print(df_hour.info())"
      ]
    },
    {
      "cell_type": "markdown",
      "metadata": {
        "id": "fn2o_o_o_s31"
      },
      "source": [
        "(!) Berdasarkan hasil observasi pada df_day, terdapat kesalahan dalam jenis data pada kolom dteday yang awalnya berupa objek, tetapi seharusnya berupa tipe data datetime."
      ]
    },
    {
      "cell_type": "markdown",
      "metadata": {
        "id": "GDLLkdsi_s31"
      },
      "source": [
        "### > Missing value"
      ]
    },
    {
      "cell_type": "code",
      "execution_count": null,
      "metadata": {
        "id": "yEjfQF8q_s31"
      },
      "outputs": [],
      "source": [
        "print('Dataframe day:')\n",
        "print(df_day.isna().sum())\n",
        "\n",
        "print('\\nDataframe hour:')\n",
        "print(df_hour.isna().sum())"
      ]
    },
    {
      "cell_type": "markdown",
      "metadata": {
        "id": "c5X6BJWL_s32"
      },
      "source": [
        "(✓) Dari hasil pemeriksaan pada dataset df_day dan df_hour, tidak ada nilai yang hilang atau kosong."
      ]
    },
    {
      "cell_type": "markdown",
      "metadata": {
        "id": "b8Wtl7To_s32"
      },
      "source": [
        "### > Duplicate Data"
      ]
    },
    {
      "cell_type": "code",
      "execution_count": null,
      "metadata": {
        "id": "Yuy9qKfD_s32"
      },
      "outputs": [],
      "source": [
        "print('Dataframe day:', df_day.duplicated().sum())\n",
        "print(\"Dataframe hour:\", df_hour.duplicated().sum())"
      ]
    },
    {
      "cell_type": "markdown",
      "metadata": {
        "id": "XMyQMHgX_s32"
      },
      "source": [
        "(✓) Tidak ada data yang duplicate."
      ]
    },
    {
      "cell_type": "markdown",
      "metadata": {
        "id": "VwYi0SH5_s33"
      },
      "source": [
        "### > Descriptive statistics"
      ]
    },
    {
      "cell_type": "code",
      "execution_count": null,
      "metadata": {
        "id": "HGkKk0wD_s33"
      },
      "outputs": [],
      "source": [
        "df_day.describe()"
      ]
    },
    {
      "cell_type": "code",
      "execution_count": null,
      "metadata": {
        "id": "evzfxEg-_s33"
      },
      "outputs": [],
      "source": [
        "df_hour.describe()"
      ]
    },
    {
      "cell_type": "markdown",
      "metadata": {
        "id": "wkF3Pfd6_s33"
      },
      "source": [
        "**(⁜) Descriptive Analysis**\n",
        "\n",
        "1. Dataset day\n",
        "        - Terdapat 731 entri dalam dataset.\n",
        "        - Musim yang paling umum adalah musim panas (season 2).\n",
        "        - Tahun dominan dalam data adalah tahun 2012 (yr = 1).\n",
        "        - Bulan dengan frekuensi paling tinggi adalah Juli (mnth 7).\n",
        "        - Hari libur hanya muncul sekitar 2.87% dari total hari.\n",
        "        - Mayoritas data mencatat hari kerja (sekitar 68.40%).\n",
        "        - Cuaca cenderung baik (weathersit 1) dengan rata-rata suhu sekitar 0.50 (41°C) dan suhu perasaan rata-rata sekitar 0.47 (50°C).\n",
        "        - Kelembaban rata-rata sekitar 0.47 (47%).\n",
        "        - Kecepatan angin rata-rata sekitar 0.63 (67% dari kecepatan maksimal).\n",
        "        - Jumlah pengguna casual rata-rata sekitar 848.\n",
        "        - Jumlah pengguna terdaftar rata-rata sekitar 3656.\n",
        "        - Rata-rata total rental sepeda per hari adalah sekitar 4504.\n",
        "\n",
        "2. Dataset hour\n",
        "    - Dataset terdiri dari 17,379 entri.\n",
        "    - Rata-rata untuk kolom-kolom utama adalah sekitar:\n",
        "        - Musim (season) 2.50, menunjukkan rata-rata musim.\n",
        "        - Tahun (yr) 0.50, perbandingan antara tahun 2011 dan 2012.\n",
        "        - Bulan (mnth) 6.54, menunjukkan rata-rata bulan dalam setahun.\n",
        "        - Jam (hr) 11.55, rata-rata jam dalam sehari.\n",
        "        - Hari libur (holiday) 0.03, presentase hari libur.\n",
        "        - Hari dalam seminggu (weekday) 3.00, rata-rata hari dalam seminggu.\n",
        "        - Hari kerja (workingday) 0.68, presentase hari kerja.\n",
        "        - Kondisi cuaca (weathersit) 1.43, rata-rata kondisi cuaca.\n",
        "        - Suhu (temp) 0.50, suhu rata-rata yang normal.\n",
        "        - Suhu perasaan (atemp) 0.48, suhu perasaan mendekati suhu sebenarnya.\n",
        "        - Kelembaban (hum) 0.48, kelembaban rata-rata.\n",
        "        - Kecepatan angin (windspeed) 0.63, kecepatan angin rata-rata.\n",
        "        - Pengguna casual (casual) 35.68, rata-rata jumlah pengguna casual.\n",
        "        - Pengguna terdaftar (registered) 153.79, rata-rata jumlah pengguna terdaftar.\n",
        "        - Total rental sepeda (cnt) 189.46, rata-rata total rental sepeda."
      ]
    },
    {
      "cell_type": "markdown",
      "metadata": {
        "id": "BzY4WgQY_s33"
      },
      "source": [
        "## Cleaning Data"
      ]
    },
    {
      "cell_type": "markdown",
      "metadata": {
        "id": "cUWuAMFx_s33"
      },
      "source": [
        "### > Fixed data type"
      ]
    },
    {
      "cell_type": "code",
      "execution_count": null,
      "metadata": {
        "id": "QZZ4OsoY_s34"
      },
      "outputs": [],
      "source": [
        "# df_day\n",
        "df_day[\"dteday\"] = pd.to_datetime(df_day[\"dteday\"])\n",
        "# df_hour\n",
        "df_hour[\"dteday\"] = pd.to_datetime(df_hour[\"dteday\"])"
      ]
    },
    {
      "cell_type": "code",
      "execution_count": null,
      "metadata": {
        "id": "f1d2tcrj_s34"
      },
      "outputs": [],
      "source": [
        "# Check data type for df_day and df_hour\n",
        "print('df_day[\"dteday\"] : ', df_day[\"dteday\"].dtypes)\n",
        "print('df_hour[\"dteday\"] : ', df_hour[\"dteday\"].dtypes)"
      ]
    },
    {
      "cell_type": "markdown",
      "metadata": {
        "id": "0x-5tnmk_s34"
      },
      "source": [
        "(✓) Fixed"
      ]
    },
    {
      "cell_type": "markdown",
      "metadata": {
        "id": "R2kFLWNE_s34"
      },
      "source": [
        "# Exploratory Data Analysis (EDA)"
      ]
    },
    {
      "cell_type": "markdown",
      "metadata": {
        "id": "auC0MIwN_s34"
      },
      "source": [
        "**> Korelasi antara variabel numerik**"
      ]
    },
    {
      "cell_type": "code",
      "execution_count": null,
      "metadata": {
        "id": "09RW8bEW_s34"
      },
      "outputs": [],
      "source": [
        "warnings.filterwarnings(\"ignore\")\n",
        "\n",
        "# df_day\n",
        "correlation_matrix = df_day.corr()\n",
        "fig = px.imshow(correlation_matrix)\n",
        "fig.update_layout(title=\"Korelasi antara Variabel Numerik\")\n",
        "fig.show()"
      ]
    },
    {
      "cell_type": "markdown",
      "metadata": {
        "id": "73kyj8XQ_s34"
      },
      "source": [
        "**> Distribusi variabel numerik**"
      ]
    },
    {
      "cell_type": "code",
      "execution_count": null,
      "metadata": {
        "id": "PmaRnWQq_s35"
      },
      "outputs": [],
      "source": [
        "numeric_cols = ['temp', 'atemp', 'hum', 'windspeed', 'casual', 'registered', 'cnt']\n",
        "for col in numeric_cols:\n",
        "    fig = px.histogram(df_day, x=col, title=f'Distribusi {col}')\n",
        "    fig.show()"
      ]
    },
    {
      "cell_type": "markdown",
      "metadata": {
        "id": "vT08KYXw_s35"
      },
      "source": [
        "**> Distribusi variabel kategorikal**"
      ]
    },
    {
      "cell_type": "code",
      "execution_count": null,
      "metadata": {
        "id": "Wp25O01L_s35"
      },
      "outputs": [],
      "source": [
        "categorical_cols = ['season', 'yr', 'mnth', 'holiday', 'weekday', 'workingday', 'weathersit']\n",
        "for col in categorical_cols:\n",
        "    fig = px.bar(df_day[col].value_counts().reset_index(), x='index', y=col)\n",
        "    fig.update_layout(title=f'Distribusi {col}')\n",
        "    fig.show()"
      ]
    },
    {
      "cell_type": "markdown",
      "metadata": {
        "id": "agqaJspC_s35"
      },
      "source": [
        "**> Hubungan antara musim (season) dan jumlah sewa (cnt)**"
      ]
    },
    {
      "cell_type": "code",
      "execution_count": null,
      "metadata": {
        "id": "IPOmJJgr_s39"
      },
      "outputs": [],
      "source": [
        "fig = px.box(df_day, x='season', y='cnt')\n",
        "fig.update_layout(title='Hubungan antara Musim dan Jumlah Sewa')\n",
        "fig.show()"
      ]
    },
    {
      "cell_type": "markdown",
      "metadata": {
        "id": "z_TzFPGj_s3-"
      },
      "source": [
        "**> Hubungan antara hari libur (holiday) dan jumlah sewa (cnt)**"
      ]
    },
    {
      "cell_type": "code",
      "execution_count": null,
      "metadata": {
        "id": "LtppVrdM_s3-"
      },
      "outputs": [],
      "source": [
        "fig = px.box(df_day, x='holiday', y='cnt')\n",
        "fig.update_layout(title='Hubungan antara Hari Libur dan Jumlah Sewa')\n",
        "fig.show()"
      ]
    },
    {
      "cell_type": "markdown",
      "metadata": {
        "id": "3Q_TNL8p_s3-"
      },
      "source": [
        "**> Hubungan antara cuaca (weathersit) dan jumlah sewa (cnt)**"
      ]
    },
    {
      "cell_type": "code",
      "execution_count": null,
      "metadata": {
        "id": "KHSSwR8I_s3-"
      },
      "outputs": [],
      "source": [
        "fig = px.box(df_day, x='weathersit', y='cnt')\n",
        "fig.update_layout(title='Hubungan antara Cuaca dan Jumlah Sewa')\n",
        "fig.show()"
      ]
    },
    {
      "cell_type": "markdown",
      "metadata": {
        "id": "gYQ7kFgq_s3-"
      },
      "source": [
        "**> Scatter plot antara suhu (temp) dan jumlah sewa (cnt)**"
      ]
    },
    {
      "cell_type": "code",
      "execution_count": null,
      "metadata": {
        "id": "LuLIzd0t_s3-"
      },
      "outputs": [],
      "source": [
        "fig = px.scatter(df_day, x='temp', y='cnt', title='Scatter Plot antara Suhu dan Jumlah Sewa')\n",
        "fig.show()"
      ]
    },
    {
      "cell_type": "markdown",
      "metadata": {
        "id": "0PxMqHgx_s3-"
      },
      "source": [
        "# Visualization & Explanatory Analysis"
      ]
    },
    {
      "cell_type": "markdown",
      "metadata": {
        "id": "TMpwldPl_s3_"
      },
      "source": [
        "**1. Berapa jumlah total sewa sepeda (cnt) untuk tahun 2012 selama musim gugur (musim 3)?**"
      ]
    },
    {
      "cell_type": "code",
      "execution_count": null,
      "metadata": {
        "id": "JgdzqZtW_s3_"
      },
      "outputs": [],
      "source": [
        "# Filter tahun 2012 dan musim gugur (season 3)\n",
        "filtered_data = df_day[(df_day[\"yr\"] == 1) & (df_day[\"season\"] == 3)]\n",
        "\n",
        "# Hitung jumlah total sewa sepeda (cnt)\n",
        "total_sewa_sepeda = filtered_data[\"cnt\"].sum()\n",
        "\n",
        "print(\"Jumlah total sewa sepeda untuk tahun 2012 selama musim gugur (musim 3):\", total_sewa_sepeda)"
      ]
    },
    {
      "cell_type": "markdown",
      "metadata": {
        "id": "VS_DwyV0_s3_"
      },
      "source": [
        "**2. Berapa banyak sepeda sewaan yang digunakan pada hari libur (liburan = 1) selama musim panas (musim 2) pada tahun 2011?**"
      ]
    },
    {
      "cell_type": "code",
      "execution_count": null,
      "metadata": {
        "id": "XAcbVYhf_s3_"
      },
      "outputs": [],
      "source": [
        "# Filter tahun 2011, musim panas (season 2), dan hari libur (holiday = 1)\n",
        "filtered_data = df_day[(df_day[\"yr\"] == 0) & (df_day[\"season\"] == 2) & (df_day[\"holiday\"] == 1)]\n",
        "\n",
        "# Hitung jumlah total sepeda sewaan\n",
        "total_sepeda_sewaan = filtered_data[\"cnt\"].sum()\n",
        "\n",
        "print(\"Jumlah total sepeda sewaan yang digunakan pada hari libur selama musim panas tahun 2011:\", total_sepeda_sewaan)"
      ]
    },
    {
      "cell_type": "markdown",
      "metadata": {
        "id": "mnPd_Nf4_s3_"
      },
      "source": [
        "**3. Bagaimana cara meningkatkan jumlah rental sepeda yang digunakan oleh pengguna biasa (casual) pada hari kerja (hari kerja = 1)?**"
      ]
    },
    {
      "cell_type": "code",
      "execution_count": null,
      "metadata": {
        "id": "ILdS7C0K_s3_"
      },
      "outputs": [],
      "source": [
        "# Filter pengguna casual (casual) pada hari kerja (workingday = 1)\n",
        "filtered_data = df_day[(df_day[\"workingday\"] == 1) & (df_day[\"casual\"] > 0)]\n",
        "\n",
        "# Visualisasikan jumlah sewa sepeda casual pada hari kerja\n",
        "fig = px.bar(filtered_data, x=\"weekday\", y=\"casual\", title=\"Jumlah Sewa Sepeda Casual pada Hari Kerja\")\n",
        "fig.update_xaxes(title=\"Hari Kerja\")\n",
        "fig.update_yaxes(title=\"Jumlah Sewa Sepeda Casual\")\n",
        "fig.show()"
      ]
    },
    {
      "cell_type": "markdown",
      "metadata": {
        "id": "MxB6Gmec_s4A"
      },
      "source": [
        "**Strategi:**\n",
        "Pengembangan promosi khusus pada hari-hari dengan tingkat penyewaan rendah, seperti Senin dan Rabu, dengan menawarkan diskon atau penawaran spesial yang hanya berlaku pada hari kerja tertentu.\n",
        "Perbaikan aksesibilitas dan kondisi fasilitas penyewaan sepeda, termasuk stasiun dan lokasi, terutama pada hari kerja, untuk memastikan penggunaan yang optimal.\n",
        "Menambah jumlah sepeda yang tersedia pada hari kerja guna mengakomodasi permintaan yang lebih tinggi selama periode tersebut.\n",
        "Meningkatkan strategi pemasaran khusus pada hari kerja, seperti kampanye iklan online yang fokus pada pengguna biasa selama hari-hari tersebut.\n",
        "Implementasi program loyalitas atau diskon berkelanjutan untuk pengguna biasa yang sering menggunakan layanan penyewaan sepeda pada hari kerja, sebagai insentif tambahan."
      ]
    },
    {
      "cell_type": "markdown",
      "metadata": {
        "id": "48PUz-2Z_s4A"
      },
      "source": [
        "**4. Apa hubungan suhu (temp) dengan jumlah pengguna yang terdaftar?**"
      ]
    },
    {
      "cell_type": "code",
      "execution_count": null,
      "metadata": {
        "id": "xtKD9JJY_s4A"
      },
      "outputs": [],
      "source": [
        "# Buat scatter plot dengan Plotly untuk memvisualisasikan hubungan suhu (temp) dengan jumlah pengguna terdaftar (registered)\n",
        "fig = px.scatter(df_day, x=\"temp\", y=\"registered\", title=\"Hubungan Suhu dengan Jumlah Pengguna Terdaftar\")\n",
        "fig.update_xaxes(title=\"Suhu (temp)\")\n",
        "fig.update_yaxes(title=\"Jumlah Pengguna Terdaftar\")\n",
        "fig.show()"
      ]
    },
    {
      "cell_type": "markdown",
      "metadata": {
        "id": "IrUhdZdW_s4A"
      },
      "source": [
        "**Insight:**\n",
        "\n",
        "Pada grafik terlihat korelasi positif yang menunjukkan bahwa meningkatnya suhu (temp)  berpengaruh juga terhadap meningkatnya jumlah pengguna yang terdaftar."
      ]
    },
    {
      "cell_type": "markdown",
      "metadata": {
        "id": "6k92nvCy_s4A"
      },
      "source": [
        "**5. Apa pengaruh cuaca (weathersit) terhadap jumlah sewa sepeda (cnt) selama musim gugur (season 3)?**"
      ]
    },
    {
      "cell_type": "code",
      "execution_count": null,
      "metadata": {
        "id": "0-AvytoW_s4B"
      },
      "outputs": [],
      "source": [
        "# Filter musim gugur (season 3)\n",
        "filtered_data = df_day[df_day[\"season\"] == 3]\n",
        "\n",
        "# Buat plot dengan Plotly untuk menganalisis pengaruh cuaca terhadap jumlah sewa sepeda\n",
        "fig = px.bar(filtered_data, x=\"weathersit\", y=\"cnt\", title=\"Pengaruh Cuaca terhadap Jumlah Sewa Sepeda (Musim Gugur)\")\n",
        "fig.update_xaxes(title=\"Cuaca (weathersit)\")\n",
        "fig.update_yaxes(title=\"Jumlah Sewa Sepeda (cnt)\")\n",
        "\n",
        "# Tampilkan plot\n",
        "fig.show()"
      ]
    },
    {
      "cell_type": "markdown",
      "metadata": {
        "id": "sbrUR7un_s4B"
      },
      "source": [
        "**(Info):**\n",
        "- weathersit :\n",
        "\t- 1: Clear, Few clouds, Partly cloudy, Partly cloudy\n",
        "\t- 2: Mist + Cloudy, Mist + Broken clouds, Mist + Few clouds, Mist\n",
        "\t- 3: Light Snow, Light Rain + Thunderstorm + Scattered clouds, Light Rain + Scattered clouds\n",
        "\t- 4: Heavy Rain + Ice Pallets + Thunderstorm + Mist, Snow + Fog\n",
        "\n",
        "**Insight:**\n",
        "\n",
        "Dari informasi yang disajikan, kita dapat menyimpulkan bahwa cuaca memiliki peran yang sangat penting dalam jumlah penyewaan sepeda. Perubahan kondisi cuaca secara jelas mempengaruhi perilaku orang dalam menggunakan layanan sepeda. Lebih tepatnya, saat cuaca cerah atau sebagian berawan (weathersit 1), terjadi peningkatan yang signifikan dalam jumlah sepeda yang disewa.\n",
        "\n",
        "Hasil analisis ini menyoroti bahwa aspek seperti cuaca dapat menjadi faktor kunci yang harus dipertimbangkan oleh penyedia layanan sewa sepeda. Hal ini karena kondisi cuaca berpotensi memengaruhi tingkat permintaan sepeda. Pemahaman ini dapat memberikan wawasan penting kepada pengambil keputusan untuk mengelola stok sepeda, menyesuaikan harga sewa, atau merancang strategi pemasaran yang lebih efisien berdasarkan variasi cuaca yang terjadi."
      ]
    },
    {
      "cell_type": "markdown",
      "metadata": {
        "id": "JdOXKgB__s4B"
      },
      "source": [
        "**6. Berapa distribusi per jam sewa sepeda (cnt) pada Hari Natal (hari libur = 1) pada tahun 2012 (tahun = 1)?**"
      ]
    },
    {
      "cell_type": "code",
      "execution_count": null,
      "metadata": {
        "id": "1Suw_gI1_s4B"
      },
      "outputs": [],
      "source": [
        "# Filter data tahun 2012 (yr = 1), Hari Natal (holiday = 1), dan musim panas (season 2)\n",
        "filtered_data = df_hour[(df_hour[\"yr\"] == 1) & (df_hour[\"holiday\"] == 1) & (df_hour[\"season\"] == 2)]\n",
        "\n",
        "# Hitung distribusi per jam sewa sepeda (cnt)\n",
        "distribusi_per_jam = filtered_data.groupby(\"hr\")[\"cnt\"].sum()\n",
        "\n",
        "print(\"Distribusi per jam sewa sepeda pada Hari Natal tahun 2012:\")\n",
        "print(distribusi_per_jam)"
      ]
    },
    {
      "cell_type": "markdown",
      "metadata": {
        "id": "F4E4Zygn_s4B"
      },
      "source": [
        "**Insight:**\n",
        "\n",
        "Distribusi ini menunjukkan bahwa pada pukul 17:00 (5:00 sore), terjadi lonjakan paling tinggi dalam jumlah sewa sepeda dengan 1.117 sewa, yang mungkin karena banyak orang menghabiskan waktu sore untuk bersepeda saat liburan Natal. Selain itu, aktivitas sewa sepeda mulai meningkat sejak pukul 6:00 pagi dan mencapai puncaknya antara pukul 17:00 dan 18:00. Setelah itu, jumlah sewa sepeda mulai turun secara perlahan hingga larut malam.\n",
        "\n",
        "Ini menggambarkan pola penggunaan sepeda selama Hari Natal, yang mencerminkan kegiatan liburan dan rutinitas masyarakat pada tanggal tersebut."
      ]
    },
    {
      "cell_type": "markdown",
      "metadata": {
        "id": "UMYyfAEN_s4C"
      },
      "source": [
        "# Conclusion"
      ]
    },
    {
      "cell_type": "markdown",
      "metadata": {
        "id": "btdq4Ked_s4C"
      },
      "source": [
        "Tentang pengaruh faktor cuaca terhadap tren penyewaan sepeda, data menunjukkan dampak yang signifikan. Selama musim gugur 2012, total penyewaan mencapai 641.479, menyoroti potensi bisnis yang kuat, yang dipengaruhi oleh cuaca, acara, serta promosi yang ada.\n",
        "\n",
        "Selama liburan musim panas 2011, penggunaan sepeda sewaan mencapai 7224, menandakan tingginya minat bersepeda selama liburan. Hal ini mencerminkan investasi infrastruktur dan meningkatnya antusiasme dalam bersepeda.\n",
        "\n",
        "Puncak penyewaan sepeda terjadi pada hari Jumat, menunjukkan peningkatan signifikan dalam penggunaan sepeda menjelang akhir pekan.\n",
        "\n",
        "Adanya korelasi antara suhu dan jumlah pengguna terdaftar dalam penyewaan sepeda menunjukkan bahwa cuaca memainkan peran penting dalam minat bersepeda, di mana peningkatan suhu cenderung meningkatkan jumlah pengguna.\n",
        "\n",
        "Pada Hari Natal tahun 2012, puncak aktivitas sewa sepeda terjadi antara jam 17:00 hingga 18:00, mencapai 1117 penyewaan, menunjukkan lonjakan signifikan sejak pagi hari pukul 8."
      ]
    },
    {
      "cell_type": "markdown",
      "metadata": {
        "id": "ObS8LNir_s4C"
      },
      "source": [
        "# Mendapatkan file required.txt dari library yang digunakan"
      ]
    }
  ],
  "metadata": {
    "kernelspec": {
      "display_name": "Python 3",
      "name": "python3"
    },
    "language_info": {
      "codemirror_mode": {
        "name": "ipython",
        "version": 3
      },
      "file_extension": ".py",
      "mimetype": "text/x-python",
      "name": "python",
      "nbconvert_exporter": "python",
      "pygments_lexer": "ipython3",
      "version": "3.10.13"
    },
    "colab": {
      "provenance": [],
      "cell_execution_strategy": "setup",
      "include_colab_link": true
    }
  },
  "nbformat": 4,
  "nbformat_minor": 0
}